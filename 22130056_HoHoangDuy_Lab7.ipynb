{
  "nbformat": 4,
  "nbformat_minor": 0,
  "metadata": {
    "colab": {
      "provenance": [],
      "authorship_tag": "ABX9TyPIi/StGZGc9scQt0/NzKBz",
      "include_colab_link": true
    },
    "kernelspec": {
      "name": "python3",
      "display_name": "Python 3"
    },
    "language_info": {
      "name": "python"
    }
  },
  "cells": [
    {
      "cell_type": "markdown",
      "metadata": {
        "id": "view-in-github",
        "colab_type": "text"
      },
      "source": [
        "<a href=\"https://colab.research.google.com/github/22130056-HoHoangDuy/Labs_ML/blob/main/22130056_HoHoangDuy_Lab7.ipynb\" target=\"_parent\"><img src=\"https://colab.research.google.com/assets/colab-badge.svg\" alt=\"Open In Colab\"/></a>"
      ]
    },
    {
      "cell_type": "code",
      "execution_count": 41,
      "metadata": {
        "id": "OARtaYtvZTpM"
      },
      "outputs": [],
      "source": [
        "#Import\n",
        "from sklearn import datasets\n",
        "import pandas as pd\n",
        "from sklearn.model_selection import train_test_split\n",
        "from sklearn.preprocessing import StandardScaler\n",
        "from sklearn.metrics import classification_report, accuracy_score\n",
        "from sklearn.datasets import load_breast_cancer\n",
        "from sklearn.metrics import accuracy_score, precision_score, recall_score, f1_score\n",
        "from sklearn.ensemble import RandomForestClassifier\n",
        "from sklearn.neighbors import KNeighborsClassifier\n",
        "from sklearn.svm import SVC\n",
        "from sklearn.neural_network import MLPClassifier\n",
        "from sklearn.model_selection import GridSearchCV\n",
        "from sklearn.feature_selection import SelectKBest, f_classif\n",
        "from sklearn.metrics import accuracy_score, precision_score, recall_score, f1_score"
      ]
    },
    {
      "cell_type": "code",
      "source": [
        "#Connect to Drive\n",
        "from google.colab import drive\n",
        "drive.mount('/content/gdrive')\n",
        "%cd '/content/gdrive/MyDrive/ML_Labs_Datasets'"
      ],
      "metadata": {
        "colab": {
          "base_uri": "https://localhost:8080/"
        },
        "id": "BQ1fzySMbkf1",
        "outputId": "36735e18-a0f0-4982-d3e0-f076786ee7d7"
      },
      "execution_count": 42,
      "outputs": [
        {
          "output_type": "stream",
          "name": "stdout",
          "text": [
            "Drive already mounted at /content/gdrive; to attempt to forcibly remount, call drive.mount(\"/content/gdrive\", force_remount=True).\n",
            "/content/gdrive/MyDrive/ML_Labs_Datasets\n"
          ]
        }
      ]
    },
    {
      "cell_type": "code",
      "source": [
        "#Load dataset\n",
        "mnist = datasets.load_digits()\n",
        "X, y = mnist.data, mnist.target\n",
        "scaler = StandardScaler()\n",
        "X_scaled = scaler.fit_transform(X)\n",
        "X_train, X_test, y_train, y_test = train_test_split(X_scaled, y, test_size=0.2, random_state=42)"
      ],
      "metadata": {
        "id": "VeZxJwHTbnNV"
      },
      "execution_count": 43,
      "outputs": []
    },
    {
      "cell_type": "code",
      "source": [
        "#Task 1.1\n",
        "from sklearn.neural_network import MLPClassifier\n",
        "mlp_1 = MLPClassifier(hidden_layer_sizes=(10,), max_iter=1000, random_state=42)\n",
        "mlp_1.fit(X_train, y_train)\n",
        "y_pred_1 = mlp_1.predict(X_test)\n",
        "print(\"MLP (1 hidden layer, 10 neurons) Accuracy:\", accuracy_score(y_test, y_pred_1))\n",
        "print(classification_report(y_test, y_pred_1))"
      ],
      "metadata": {
        "colab": {
          "base_uri": "https://localhost:8080/"
        },
        "id": "CjCs1DSobVlv",
        "outputId": "026b8931-3df9-4980-a3b6-d2606bb959b0"
      },
      "execution_count": 44,
      "outputs": [
        {
          "output_type": "stream",
          "name": "stdout",
          "text": [
            "MLP (1 hidden layer, 10 neurons) Accuracy: 0.9611111111111111\n",
            "              precision    recall  f1-score   support\n",
            "\n",
            "           0       0.97      1.00      0.99        33\n",
            "           1       0.93      0.96      0.95        28\n",
            "           2       0.94      1.00      0.97        33\n",
            "           3       0.92      0.97      0.94        34\n",
            "           4       1.00      1.00      1.00        46\n",
            "           5       0.96      0.96      0.96        47\n",
            "           6       0.97      0.97      0.97        35\n",
            "           7       1.00      0.97      0.99        34\n",
            "           8       0.96      0.83      0.89        30\n",
            "           9       0.95      0.93      0.94        40\n",
            "\n",
            "    accuracy                           0.96       360\n",
            "   macro avg       0.96      0.96      0.96       360\n",
            "weighted avg       0.96      0.96      0.96       360\n",
            "\n"
          ]
        }
      ]
    },
    {
      "cell_type": "code",
      "source": [
        "#Task 1.2\n",
        "mlp_2 = MLPClassifier(hidden_layer_sizes=(250, 100), max_iter=1000, random_state=42)\n",
        "mlp_2.fit(X_train, y_train)\n",
        "y_pred_2 = mlp_2.predict(X_test)\n",
        "print(\"MLP (2 hidden layers: 250, 100 neurons) Accuracy:\", accuracy_score(y_test, y_pred_2))\n",
        "print(classification_report(y_test, y_pred_2))"
      ],
      "metadata": {
        "colab": {
          "base_uri": "https://localhost:8080/"
        },
        "id": "RBnQiDA5bgNm",
        "outputId": "e16d23db-3091-44a1-92c4-01ed608a1b24"
      },
      "execution_count": 45,
      "outputs": [
        {
          "output_type": "stream",
          "name": "stdout",
          "text": [
            "MLP (2 hidden layers: 250, 100 neurons) Accuracy: 0.975\n",
            "              precision    recall  f1-score   support\n",
            "\n",
            "           0       1.00      0.97      0.98        33\n",
            "           1       1.00      1.00      1.00        28\n",
            "           2       0.97      1.00      0.99        33\n",
            "           3       0.97      0.97      0.97        34\n",
            "           4       1.00      1.00      1.00        46\n",
            "           5       0.94      0.96      0.95        47\n",
            "           6       0.97      0.97      0.97        35\n",
            "           7       1.00      0.97      0.99        34\n",
            "           8       0.97      0.97      0.97        30\n",
            "           9       0.95      0.95      0.95        40\n",
            "\n",
            "    accuracy                           0.97       360\n",
            "   macro avg       0.98      0.98      0.98       360\n",
            "weighted avg       0.98      0.97      0.98       360\n",
            "\n"
          ]
        }
      ]
    },
    {
      "cell_type": "code",
      "source": [
        "#Task 1.3\n",
        "from sklearn.ensemble import RandomForestClassifier\n",
        "from sklearn.neighbors import KNeighborsClassifier\n",
        "from sklearn.svm import SVC\n",
        "\n",
        "#Random Forest\n",
        "rf = RandomForestClassifier(random_state=42)\n",
        "rf.fit(X_train, y_train)\n",
        "y_pred_rf = rf.predict(X_test)\n",
        "print(\"Random Forest Accuracy:\", accuracy_score(y_test, y_pred_rf))\n",
        "\n",
        "#kNN\n",
        "knn = KNeighborsClassifier()\n",
        "knn.fit(X_train, y_train)\n",
        "y_pred_knn = knn.predict(X_test)\n",
        "print(\"kNN Accuracy:\", accuracy_score(y_test, y_pred_knn))\n",
        "\n",
        "#SVM\n",
        "svm = SVC()\n",
        "svm.fit(X_train, y_train)\n",
        "y_pred_svm = svm.predict(X_test)\n",
        "print(\"SVM Accuracy:\", accuracy_score(y_test, y_pred_svm))"
      ],
      "metadata": {
        "colab": {
          "base_uri": "https://localhost:8080/"
        },
        "id": "XPJmEs6ybqOe",
        "outputId": "e413af2f-dc10-477e-ac6d-8e6ad973e2a2"
      },
      "execution_count": 46,
      "outputs": [
        {
          "output_type": "stream",
          "name": "stdout",
          "text": [
            "Random Forest Accuracy: 0.9722222222222222\n",
            "kNN Accuracy: 0.975\n",
            "SVM Accuracy: 0.9805555555555555\n"
          ]
        }
      ]
    },
    {
      "cell_type": "code",
      "source": [
        "#Task 2\n",
        "#Load dataset\n",
        "breast = load_breast_cancer()\n",
        "X, y = breast.data, breast.target\n",
        "scaler = StandardScaler()\n",
        "X_scaled = scaler.fit_transform(X)\n",
        "X_train, X_test, y_train, y_test = train_test_split(X_scaled, y, test_size=0.2, random_state=42)"
      ],
      "metadata": {
        "id": "MUTJOGTob4o-"
      },
      "execution_count": 47,
      "outputs": []
    },
    {
      "cell_type": "code",
      "source": [
        "#Task 2.1\n",
        "from sklearn.feature_selection import SelectKBest, f_classif\n",
        "selector = SelectKBest(score_func=f_classif, k=10)\n",
        "X_train_selected = selector.fit_transform(X_train, y_train)\n",
        "X_test_selected = selector.transform(X_test)\n",
        "selected_features = selector.get_support(indices=True)\n",
        "print(\"Selected feature indices:\", selected_features)\n",
        "print(\"Selected feature names:\", [breast.feature_names[i] for i in selected_features])"
      ],
      "metadata": {
        "colab": {
          "base_uri": "https://localhost:8080/"
        },
        "id": "OQv3ZU8yc7W2",
        "outputId": "fe25ef1f-4235-402d-bd65-0011c95407c1"
      },
      "execution_count": 48,
      "outputs": [
        {
          "output_type": "stream",
          "name": "stdout",
          "text": [
            "Selected feature indices: [ 0  2  3  6  7 20 22 23 26 27]\n",
            "Selected feature names: [np.str_('mean radius'), np.str_('mean perimeter'), np.str_('mean area'), np.str_('mean concavity'), np.str_('mean concave points'), np.str_('worst radius'), np.str_('worst perimeter'), np.str_('worst area'), np.str_('worst concavity'), np.str_('worst concave points')]\n"
          ]
        }
      ]
    },
    {
      "cell_type": "code",
      "source": [
        "#Task 2.2\n",
        "param_grid = {\n",
        "    'hidden_layer_sizes': [(50,), (100,), (50, 50)],\n",
        "    'activation': ['relu', 'tanh'],\n",
        "    'solver': ['adam'],\n",
        "    'max_iter': [1000],\n",
        "}\n",
        "grid_mlp = GridSearchCV(MLPClassifier(random_state=42), param_grid, cv=5, scoring='accuracy')\n",
        "grid_mlp.fit(X_train_selected, y_train)\n",
        "print(\"Best parameters:\", grid_mlp.best_params_)\n",
        "print(\"Best cross-validation accuracy:\", grid_mlp.best_score_)"
      ],
      "metadata": {
        "colab": {
          "base_uri": "https://localhost:8080/"
        },
        "id": "2Rpk8q4zdOK2",
        "outputId": "208c8a8b-ca3a-4b80-c797-148bb5fe91dc"
      },
      "execution_count": 49,
      "outputs": [
        {
          "output_type": "stream",
          "name": "stderr",
          "text": [
            "/usr/local/lib/python3.11/dist-packages/sklearn/neural_network/_multilayer_perceptron.py:691: ConvergenceWarning: Stochastic Optimizer: Maximum iterations (1000) reached and the optimization hasn't converged yet.\n",
            "  warnings.warn(\n",
            "/usr/local/lib/python3.11/dist-packages/sklearn/neural_network/_multilayer_perceptron.py:691: ConvergenceWarning: Stochastic Optimizer: Maximum iterations (1000) reached and the optimization hasn't converged yet.\n",
            "  warnings.warn(\n",
            "/usr/local/lib/python3.11/dist-packages/sklearn/neural_network/_multilayer_perceptron.py:691: ConvergenceWarning: Stochastic Optimizer: Maximum iterations (1000) reached and the optimization hasn't converged yet.\n",
            "  warnings.warn(\n",
            "/usr/local/lib/python3.11/dist-packages/sklearn/neural_network/_multilayer_perceptron.py:691: ConvergenceWarning: Stochastic Optimizer: Maximum iterations (1000) reached and the optimization hasn't converged yet.\n",
            "  warnings.warn(\n"
          ]
        },
        {
          "output_type": "stream",
          "name": "stdout",
          "text": [
            "Best parameters: {'activation': 'relu', 'hidden_layer_sizes': (50,), 'max_iter': 1000, 'solver': 'adam'}\n",
            "Best cross-validation accuracy: 0.9582417582417582\n"
          ]
        }
      ]
    },
    {
      "cell_type": "code",
      "source": [
        "#Task 2.3\n",
        "def evaluate_model(name, model, X_test, y_test):\n",
        "    y_pred = model.predict(X_test)\n",
        "    print(f\"{name}\")\n",
        "    print(\"Accuracy:\", accuracy_score(y_test, y_pred))\n",
        "    print(\"Precision:\", precision_score(y_test, y_pred))\n",
        "    print(\"Recall:\", recall_score(y_test, y_pred))\n",
        "    print(\"F1 Score:\", f1_score(y_test, y_pred))\n",
        "    print()\n",
        "\n",
        "#Dùng MLP tốt nhất\n",
        "best_mlp = grid_mlp.best_estimator_\n",
        "evaluate_model(\"Best MLP\", best_mlp, X_test_selected, y_test)\n",
        "\n",
        "#Random Forest\n",
        "rf = RandomForestClassifier(random_state=42)\n",
        "rf.fit(X_train_selected, y_train)\n",
        "evaluate_model(\"Random Forest\", rf, X_test_selected, y_test)\n",
        "\n",
        "#kNN\n",
        "knn = KNeighborsClassifier()\n",
        "knn.fit(X_train_selected, y_train)\n",
        "evaluate_model(\"kNN\", knn, X_test_selected, y_test)\n",
        "\n",
        "#SVM\n",
        "svm = SVC()\n",
        "svm.fit(X_train_selected, y_train)\n",
        "evaluate_model(\"SVM\", svm, X_test_selected, y_test)"
      ],
      "metadata": {
        "colab": {
          "base_uri": "https://localhost:8080/"
        },
        "id": "Csl9mb1kdcNX",
        "outputId": "b6684b80-120f-48b7-bc15-dd04d1bebabb"
      },
      "execution_count": 50,
      "outputs": [
        {
          "output_type": "stream",
          "name": "stdout",
          "text": [
            "Best MLP\n",
            "Accuracy: 0.9736842105263158\n",
            "Precision: 0.9857142857142858\n",
            "Recall: 0.971830985915493\n",
            "F1 Score: 0.9787234042553191\n",
            "\n",
            "Random Forest\n",
            "Accuracy: 0.956140350877193\n",
            "Precision: 0.9583333333333334\n",
            "Recall: 0.971830985915493\n",
            "F1 Score: 0.965034965034965\n",
            "\n",
            "kNN\n",
            "Accuracy: 0.9736842105263158\n",
            "Precision: 0.9857142857142858\n",
            "Recall: 0.971830985915493\n",
            "F1 Score: 0.9787234042553191\n",
            "\n",
            "SVM\n",
            "Accuracy: 0.9649122807017544\n",
            "Precision: 0.958904109589041\n",
            "Recall: 0.9859154929577465\n",
            "F1 Score: 0.9722222222222222\n",
            "\n"
          ]
        }
      ]
    },
    {
      "cell_type": "code",
      "source": [
        "#Task 3\n",
        "#Load dataset\n",
        "df = pd.read_csv('mobile.csv')\n",
        "X = df.drop('price_range', axis=1)\n",
        "y = df['price_range']\n",
        "scaler = StandardScaler()\n",
        "X_scaled = scaler.fit_transform(X)\n",
        "X_train, X_test, y_train, y_test = train_test_split(X_scaled, y, test_size=0.2, random_state=42)"
      ],
      "metadata": {
        "id": "77JY1vJ8eTr-"
      },
      "execution_count": 51,
      "outputs": []
    },
    {
      "cell_type": "code",
      "source": [
        "#Task 3.1: Feature Selection\n",
        "\n",
        "selector = SelectKBest(score_func=f_classif, k=15)\n",
        "X_train_selected = selector.fit_transform(X_train, y_train)\n",
        "X_test_selected = selector.transform(X_test)\n",
        "\n",
        "selected_features = selector.get_support(indices=True)\n",
        "print(\"Selected feature indices:\", selected_features)\n",
        "print(\"Selected feature names:\", X.columns[selected_features].tolist())"
      ],
      "metadata": {
        "colab": {
          "base_uri": "https://localhost:8080/"
        },
        "id": "8T7f_f9ee8a2",
        "outputId": "b382969d-a85b-4a39-a1a7-f71c513565b3"
      },
      "execution_count": 52,
      "outputs": [
        {
          "output_type": "stream",
          "name": "stdout",
          "text": [
            "Selected feature indices: [ 0  1  2  4  6  7  8  9 11 12 13 14 15 16 18]\n",
            "Selected feature names: ['battery_power', 'blue', 'clock_speed', 'fc', 'int_memory', 'm_dep', 'mobile_wt', 'n_cores', 'px_height', 'px_width', 'ram', 'sc_h', 'sc_w', 'talk_time', 'touch_screen']\n"
          ]
        }
      ]
    },
    {
      "cell_type": "code",
      "source": [
        "#Task 3.2\n",
        "from sklearn.neural_network import MLPClassifier\n",
        "from sklearn.model_selection import GridSearchCV\n",
        "param_grid = {\n",
        "    'hidden_layer_sizes': [(50,), (100,), (64, 32)],\n",
        "    'activation': ['relu', 'tanh'],\n",
        "    'solver': ['adam'],\n",
        "    'max_iter': [500]\n",
        "}\n",
        "grid_mlp = GridSearchCV(MLPClassifier(random_state=42), param_grid, cv=5, scoring='accuracy')\n",
        "grid_mlp.fit(X_train_selected, y_train)\n",
        "print(\"Best parameters:\", grid_mlp.best_params_)\n",
        "print(\"Best cross-validation accuracy:\", grid_mlp.best_score_)"
      ],
      "metadata": {
        "colab": {
          "base_uri": "https://localhost:8080/"
        },
        "id": "T8wvvNzmfJf-",
        "outputId": "466d3eb5-aa7c-40c7-a7e6-78af74b33026"
      },
      "execution_count": 53,
      "outputs": [
        {
          "output_type": "stream",
          "name": "stderr",
          "text": [
            "/usr/local/lib/python3.11/dist-packages/sklearn/neural_network/_multilayer_perceptron.py:691: ConvergenceWarning: Stochastic Optimizer: Maximum iterations (500) reached and the optimization hasn't converged yet.\n",
            "  warnings.warn(\n",
            "/usr/local/lib/python3.11/dist-packages/sklearn/neural_network/_multilayer_perceptron.py:691: ConvergenceWarning: Stochastic Optimizer: Maximum iterations (500) reached and the optimization hasn't converged yet.\n",
            "  warnings.warn(\n",
            "/usr/local/lib/python3.11/dist-packages/sklearn/neural_network/_multilayer_perceptron.py:691: ConvergenceWarning: Stochastic Optimizer: Maximum iterations (500) reached and the optimization hasn't converged yet.\n",
            "  warnings.warn(\n",
            "/usr/local/lib/python3.11/dist-packages/sklearn/neural_network/_multilayer_perceptron.py:691: ConvergenceWarning: Stochastic Optimizer: Maximum iterations (500) reached and the optimization hasn't converged yet.\n",
            "  warnings.warn(\n",
            "/usr/local/lib/python3.11/dist-packages/sklearn/neural_network/_multilayer_perceptron.py:691: ConvergenceWarning: Stochastic Optimizer: Maximum iterations (500) reached and the optimization hasn't converged yet.\n",
            "  warnings.warn(\n",
            "/usr/local/lib/python3.11/dist-packages/sklearn/neural_network/_multilayer_perceptron.py:691: ConvergenceWarning: Stochastic Optimizer: Maximum iterations (500) reached and the optimization hasn't converged yet.\n",
            "  warnings.warn(\n",
            "/usr/local/lib/python3.11/dist-packages/sklearn/neural_network/_multilayer_perceptron.py:691: ConvergenceWarning: Stochastic Optimizer: Maximum iterations (500) reached and the optimization hasn't converged yet.\n",
            "  warnings.warn(\n",
            "/usr/local/lib/python3.11/dist-packages/sklearn/neural_network/_multilayer_perceptron.py:691: ConvergenceWarning: Stochastic Optimizer: Maximum iterations (500) reached and the optimization hasn't converged yet.\n",
            "  warnings.warn(\n",
            "/usr/local/lib/python3.11/dist-packages/sklearn/neural_network/_multilayer_perceptron.py:691: ConvergenceWarning: Stochastic Optimizer: Maximum iterations (500) reached and the optimization hasn't converged yet.\n",
            "  warnings.warn(\n",
            "/usr/local/lib/python3.11/dist-packages/sklearn/neural_network/_multilayer_perceptron.py:691: ConvergenceWarning: Stochastic Optimizer: Maximum iterations (500) reached and the optimization hasn't converged yet.\n",
            "  warnings.warn(\n",
            "/usr/local/lib/python3.11/dist-packages/sklearn/neural_network/_multilayer_perceptron.py:691: ConvergenceWarning: Stochastic Optimizer: Maximum iterations (500) reached and the optimization hasn't converged yet.\n",
            "  warnings.warn(\n",
            "/usr/local/lib/python3.11/dist-packages/sklearn/neural_network/_multilayer_perceptron.py:691: ConvergenceWarning: Stochastic Optimizer: Maximum iterations (500) reached and the optimization hasn't converged yet.\n",
            "  warnings.warn(\n",
            "/usr/local/lib/python3.11/dist-packages/sklearn/neural_network/_multilayer_perceptron.py:691: ConvergenceWarning: Stochastic Optimizer: Maximum iterations (500) reached and the optimization hasn't converged yet.\n",
            "  warnings.warn(\n",
            "/usr/local/lib/python3.11/dist-packages/sklearn/neural_network/_multilayer_perceptron.py:691: ConvergenceWarning: Stochastic Optimizer: Maximum iterations (500) reached and the optimization hasn't converged yet.\n",
            "  warnings.warn(\n"
          ]
        },
        {
          "output_type": "stream",
          "name": "stdout",
          "text": [
            "Best parameters: {'activation': 'tanh', 'hidden_layer_sizes': (50,), 'max_iter': 500, 'solver': 'adam'}\n",
            "Best cross-validation accuracy: 0.9550000000000001\n"
          ]
        },
        {
          "output_type": "stream",
          "name": "stderr",
          "text": [
            "/usr/local/lib/python3.11/dist-packages/sklearn/neural_network/_multilayer_perceptron.py:691: ConvergenceWarning: Stochastic Optimizer: Maximum iterations (500) reached and the optimization hasn't converged yet.\n",
            "  warnings.warn(\n"
          ]
        }
      ]
    },
    {
      "cell_type": "code",
      "source": [
        "#Task 3.3\n",
        "def evaluate_model(name, model, X_test, y_test):\n",
        "    y_pred = model.predict(X_test)\n",
        "    print(f\"{name}\")\n",
        "    print(\"Accuracy:\", accuracy_score(y_test, y_pred))\n",
        "    print(\"Precision (macro):\", precision_score(y_test, y_pred, average='macro'))\n",
        "    print(\"Recall (macro):\", recall_score(y_test, y_pred, average='macro'))\n",
        "    print(\"F1 Score (macro):\", f1_score(y_test, y_pred, average='macro'))\n",
        "    print()\n",
        "\n",
        "#MLP tốt nhất từ GridSearch\n",
        "best_mlp = grid_mlp.best_estimator_\n",
        "evaluate_model(\"Best MLP\", best_mlp, X_test_selected, y_test)\n",
        "\n",
        "#Random Forest\n",
        "rf = RandomForestClassifier(random_state=42)\n",
        "rf.fit(X_train_selected, y_train)\n",
        "evaluate_model(\"Random Forest\", rf, X_test_selected, y_test)\n",
        "\n",
        "#kNN\n",
        "knn = KNeighborsClassifier()\n",
        "knn.fit(X_train_selected, y_train)\n",
        "evaluate_model(\"kNN\", knn, X_test_selected, y_test)\n",
        "\n",
        "#SVM\n",
        "svm = SVC()\n",
        "svm.fit(X_train_selected, y_train)\n",
        "evaluate_model(\"SVM\", svm, X_test_selected, y_test)"
      ],
      "metadata": {
        "colab": {
          "base_uri": "https://localhost:8080/"
        },
        "id": "72S9wxJifNoW",
        "outputId": "7330fa0d-4f5f-4969-a494-018a309e5ef9"
      },
      "execution_count": 54,
      "outputs": [
        {
          "output_type": "stream",
          "name": "stdout",
          "text": [
            "Best MLP\n",
            "Accuracy: 0.9625\n",
            "Precision (macro): 0.9618475340420735\n",
            "Recall (macro): 0.961674331103679\n",
            "F1 Score (macro): 0.961227988724497\n",
            "\n",
            "Random Forest\n",
            "Accuracy: 0.865\n",
            "Precision (macro): 0.8638323705795221\n",
            "Recall (macro): 0.8627145046982003\n",
            "F1 Score (macro): 0.8621345696721079\n",
            "\n",
            "kNN\n",
            "Accuracy: 0.5825\n",
            "Precision (macro): 0.6075721293933904\n",
            "Recall (macro): 0.5769982282210543\n",
            "F1 Score (macro): 0.5837471892260397\n",
            "\n",
            "SVM\n",
            "Accuracy: 0.8975\n",
            "Precision (macro): 0.894619016961389\n",
            "Recall (macro): 0.8947339345437172\n",
            "F1 Score (macro): 0.8938621873867725\n",
            "\n"
          ]
        }
      ]
    }
  ]
}