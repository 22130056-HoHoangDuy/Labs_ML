{
  "nbformat": 4,
  "nbformat_minor": 0,
  "metadata": {
    "colab": {
      "provenance": [],
      "authorship_tag": "ABX9TyNnu0Kj2uWwQgkY0AebTrHp",
      "include_colab_link": true
    },
    "kernelspec": {
      "name": "python3",
      "display_name": "Python 3"
    },
    "language_info": {
      "name": "python"
    }
  },
  "cells": [
    {
      "cell_type": "markdown",
      "metadata": {
        "id": "view-in-github",
        "colab_type": "text"
      },
      "source": [
        "<a href=\"https://colab.research.google.com/github/22130056-HoHoangDuy/Labs_ML/blob/main/22130056_HoHoangDuy_Lab1.ipynb\" target=\"_parent\"><img src=\"https://colab.research.google.com/assets/colab-badge.svg\" alt=\"Open In Colab\"/></a>"
      ]
    },
    {
      "cell_type": "code",
      "source": [
        "#Import\n",
        "import numpy as np\n",
        "import pandas as pd\n",
        "from google.colab import drive\n",
        "drive.mount('/content/gdrive')\n",
        "%cd '/content/gdrive/MyDrive/ML_Labs_Datasets'"
      ],
      "metadata": {
        "colab": {
          "base_uri": "https://localhost:8080/",
          "height": 0
        },
        "id": "gBTvOUvjh5E-",
        "outputId": "3ea70ece-fcfb-47b2-94de-f63b6b0d6a0e"
      },
      "execution_count": 47,
      "outputs": [
        {
          "output_type": "stream",
          "name": "stdout",
          "text": [
            "Drive already mounted at /content/gdrive; to attempt to forcibly remount, call drive.mount(\"/content/gdrive\", force_remount=True).\n",
            "/content/gdrive/MyDrive/ML_Labs_Datasets\n"
          ]
        }
      ]
    },
    {
      "cell_type": "code",
      "execution_count": 48,
      "metadata": {
        "colab": {
          "base_uri": "https://localhost:8080/",
          "height": 0
        },
        "id": "yzv3U7ZFVy0-",
        "outputId": "7200c551-d32c-4fda-c0d0-f59d9d286855"
      },
      "outputs": [
        {
          "output_type": "stream",
          "name": "stdout",
          "text": [
            "   X\n",
            "  XXX\n",
            " XXXXX\n",
            "XXXXXXX\n"
          ]
        }
      ],
      "source": [
        "#Task1.1\n",
        "def drawPyramid(n):\n",
        "   for i in range(1, n + 1):\n",
        "        print(\" \" * (n - i) + \"X\" * (2 * i - 1))\n",
        "drawPyramid(4)"
      ]
    },
    {
      "cell_type": "code",
      "source": [
        "#Task1.2 Transaction Define\n",
        "class Transaction:\n",
        "    def __init__(self, id, type, date, amount):\n",
        "        self.id = id\n",
        "        self.type = type  # deposit, withdrawal, transfer\n",
        "        self.date = date\n",
        "        self.amount = amount"
      ],
      "metadata": {
        "id": "U4ClL5k3WE8G"
      },
      "execution_count": 49,
      "outputs": []
    },
    {
      "cell_type": "code",
      "source": [
        "#Task1.2 Account Define\n",
        "class Account:\n",
        "    def __init__(self, accountNo, owner, balance):\n",
        "        self.accountNo = accountNo\n",
        "        self.owner = owner\n",
        "        self.balance = balance\n",
        "        self.transactions = []\n",
        "\n",
        "    def addTransaction(self, transaction):\n",
        "        self.transactions.append(transaction)"
      ],
      "metadata": {
        "id": "dso-ylsmZntA"
      },
      "execution_count": 50,
      "outputs": []
    },
    {
      "cell_type": "code",
      "source": [
        "#Task1.2 a)\n",
        "def countDepositTransactions(self):\n",
        "    return sum(1 for t in self.transactions if t.type == \"deposit\")\n",
        "Account.countDepositTransactions = countDepositTransactions"
      ],
      "metadata": {
        "id": "-NWC3-3FYHFP"
      },
      "execution_count": 51,
      "outputs": []
    },
    {
      "cell_type": "code",
      "source": [
        "#Task 1.2 b)\n",
        "def findMaxWithdrawalTransaction(self):\n",
        "    withdrawals = [t for t in self.transactions if t.type == \"withdrawal\"]\n",
        "    return max(withdrawals, key=lambda t: t.amount) if withdrawals else None\n",
        "Account.findMaxWithdrawalTransaction = findMaxWithdrawalTransaction"
      ],
      "metadata": {
        "id": "B5fYsSH4aO7A"
      },
      "execution_count": 52,
      "outputs": []
    },
    {
      "cell_type": "code",
      "source": [
        "#Task1.2 c)\n",
        "def statByTypes(self):\n",
        "    stats = {}\n",
        "    for t in self.transactions:\n",
        "        stats[t.type] = stats.get(t.type, 0) + 1\n",
        "    return stats\n",
        "Account.statByTypes = statByTypes"
      ],
      "metadata": {
        "id": "tkXFxxVSaewG"
      },
      "execution_count": 53,
      "outputs": []
    },
    {
      "cell_type": "code",
      "source": [
        "#Task1.2 d)\n",
        "def filterTransferTransaction(self, threshold):\n",
        "    filtered_transfers = [t for t in self.transactions if t.type == \"transfer\" and t.amount > threshold]\n",
        "    return sorted(filtered_transfers, key=lambda t: t.type)\n",
        "Account.filterTransferTransaction = filterTransferTransaction"
      ],
      "metadata": {
        "id": "7X_RFS35am3G"
      },
      "execution_count": 54,
      "outputs": []
    },
    {
      "cell_type": "code",
      "source": [
        "#Create Account\n",
        "acc = Account(\"22130056\", \"Duy\", 100000000)\n",
        "\n",
        "#Add Transaction\n",
        "acc.addTransaction(Transaction(1, \"deposit\", \"2025-03-14\", 5000000))\n",
        "acc.addTransaction(Transaction(2, \"withdrawal\", \"2025-03-15\", 7000000))\n",
        "acc.addTransaction(Transaction(3, \"deposit\", \"2025-03-16\", 3000000))\n",
        "acc.addTransaction(Transaction(4, \"transfer\", \"2025-03-17\", 1000000))\n",
        "acc.addTransaction(Transaction(5, \"transfer\", \"2025-03-18\", 2500000))\n",
        "\n",
        "#Test\n",
        "print(\"Số giao dịch deposit:\", acc.countDepositTransactions())\n",
        "max_withdrawal = acc.findMaxWithdrawalTransaction()\n",
        "print(\"Giao dịch rút tiền lớn nhất:\", vars(max_withdrawal) if max_withdrawal else \"Không có\")\n",
        "\n",
        "print(\"Thống kê giao dịch:\", acc.statByTypes())\n",
        "\n",
        "filtered_transfers = acc.filterTransferTransaction(2000000)\n",
        "print(\"Giao dịch chuyển khoản trên 2000000:\", [vars(t) for t in filtered_transfers])"
      ],
      "metadata": {
        "colab": {
          "base_uri": "https://localhost:8080/",
          "height": 0
        },
        "id": "Y-LhmWwNcf1S",
        "outputId": "c1df18ef-8b46-4d76-ac59-750101225a5d"
      },
      "execution_count": 55,
      "outputs": [
        {
          "output_type": "stream",
          "name": "stdout",
          "text": [
            "Số giao dịch deposit: 2\n",
            "Giao dịch rút tiền lớn nhất: {'id': 2, 'type': 'withdrawal', 'date': '2025-03-15', 'amount': 7000000}\n",
            "Thống kê giao dịch: {'deposit': 2, 'withdrawal': 1, 'transfer': 2}\n",
            "Giao dịch chuyển khoản trên 2000000: [{'id': 5, 'type': 'transfer', 'date': '2025-03-18', 'amount': 2500000}]\n"
          ]
        }
      ]
    },
    {
      "cell_type": "code",
      "source": [
        "#Task2.1\n",
        "a = np.array([2,4,5,7,8])\n",
        "b = np.array([2,3,7,9,8])\n",
        "common_items = np.intersect1d(a, b)\n",
        "print(\"Common items:\", common_items)"
      ],
      "metadata": {
        "colab": {
          "base_uri": "https://localhost:8080/",
          "height": 0
        },
        "id": "B9_fZs6Ue01d",
        "outputId": "398dd699-d8c8-486c-b85f-1ada04c033e7"
      },
      "execution_count": 56,
      "outputs": [
        {
          "output_type": "stream",
          "name": "stdout",
          "text": [
            "Common items: [2 7 8]\n"
          ]
        }
      ]
    },
    {
      "cell_type": "code",
      "source": [
        "#Task2.2\n",
        "sequence = np.arange(0, 101, 1)\n",
        "print(\"Generated sequence:\", sequence)"
      ],
      "metadata": {
        "colab": {
          "base_uri": "https://localhost:8080/",
          "height": 0
        },
        "id": "IHoFR0wyg031",
        "outputId": "2f8aaaf9-7889-40ae-9985-0d0e71d72322"
      },
      "execution_count": 57,
      "outputs": [
        {
          "output_type": "stream",
          "name": "stdout",
          "text": [
            "Generated sequence: [  0   1   2   3   4   5   6   7   8   9  10  11  12  13  14  15  16  17\n",
            "  18  19  20  21  22  23  24  25  26  27  28  29  30  31  32  33  34  35\n",
            "  36  37  38  39  40  41  42  43  44  45  46  47  48  49  50  51  52  53\n",
            "  54  55  56  57  58  59  60  61  62  63  64  65  66  67  68  69  70  71\n",
            "  72  73  74  75  76  77  78  79  80  81  82  83  84  85  86  87  88  89\n",
            "  90  91  92  93  94  95  96  97  98  99 100]\n"
          ]
        }
      ]
    },
    {
      "cell_type": "code",
      "source": [
        "#Task3.1\n",
        "# Read file\n",
        "df = pd.read_csv(\"users.csv\")\n",
        "\n",
        "# a)\n",
        "print(\"a) Last 10 entries:\")\n",
        "print(df.tail(10))\n",
        "\n",
        "# b)\n",
        "print(\"\\nb) Number of observations and attributes:\", df.shape)\n",
        "\n",
        "# c)\n",
        "print(\"\\nc) Column names:\", df.columns.tolist())\n",
        "\n",
        "# d)\n",
        "print(\"\\nd) Data types of each column:\")\n",
        "print(df.dtypes)\n",
        "\n",
        "# e)\n",
        "print(\"\\ne)Different occupations in dataset:\")\n",
        "print(df[\"occupation\"].unique())\n",
        "\n",
        "# f)\n",
        "print(\"\\nf) Most frequent occupation:\", df[\"occupation\"].value_counts().idxmax())\n",
        "\n",
        "# g)\n",
        "print(\"\\ng) Summary of dataset:\")\n",
        "print(df.describe(include=\"all\"))\n",
        "\n",
        "# h)\n",
        "print(\"\\nh )Mean age per occupation:\")\n",
        "print(df.groupby(\"occupation\")[\"age\"].mean())\n",
        "\n",
        "# i)\n",
        "df[\"gender\"] = df[\"gender\"].map({\"M\": 1, \"F\": 0})  # Chuyển đổi giới tính thành số\n",
        "male_ratio = df.groupby(\"occupation\")[\"gender\"].mean().sort_values(ascending=False)\n",
        "print(\"\\ni) Male ratio per occupation (sorted):\")\n",
        "print(male_ratio)\n",
        "\n",
        "# j)\n",
        "print(\"\\nj) Min and Max age per occupation:\")\n",
        "print(df.groupby(\"occupation\")[\"age\"].agg([\"min\", \"max\"]))\n",
        "\n",
        "# k)\n",
        "print(\"\\nk) Mean age per occupation and gender:\")\n",
        "print(df.groupby([\"occupation\", \"gender\"])[\"age\"].mean())\n",
        "\n",
        "# l)\n",
        "gender_counts = df.groupby(\"occupation\")[\"gender\"].value_counts(normalize=True).unstack()\n",
        "print(\"\\nl) Percentage of men and women per occupation:\")\n",
        "print(gender_counts * 100)  # Đổi sang %\n"
      ],
      "metadata": {
        "colab": {
          "base_uri": "https://localhost:8080/",
          "height": 0
        },
        "id": "mo8AGBqHn8L7",
        "outputId": "beb23514-b9ed-4d00-d935-772bdae0743e"
      },
      "execution_count": 58,
      "outputs": [
        {
          "output_type": "stream",
          "name": "stdout",
          "text": [
            "a) Last 10 entries:\n",
            "     user_id  age gender     occupation zip_code\n",
            "933      934   61      M       engineer    22902\n",
            "934      935   42      M         doctor    66221\n",
            "935      936   24      M          other    32789\n",
            "936      937   48      M       educator    98072\n",
            "937      938   38      F     technician    55038\n",
            "938      939   26      F        student    33319\n",
            "939      940   32      M  administrator     2215\n",
            "940      941   20      M        student    97229\n",
            "941      942   48      F      librarian    78209\n",
            "942      943   22      M        student    77841\n",
            "\n",
            "b) Number of observations and attributes: (943, 5)\n",
            "\n",
            "c) Column names: ['user_id', 'age', 'gender', 'occupation', 'zip_code']\n",
            "\n",
            "d) Data types of each column:\n",
            "user_id        int64\n",
            "age            int64\n",
            "gender        object\n",
            "occupation    object\n",
            "zip_code      object\n",
            "dtype: object\n",
            "\n",
            "e)Different occupations in dataset:\n",
            "['technician' 'other' 'writer' 'executive' 'administrator' 'student'\n",
            " 'lawyer' 'educator' 'scientist' 'entertainment' 'programmer' 'librarian'\n",
            " 'homemaker' 'artist' 'engineer' 'marketing' 'none' 'healthcare' 'retired'\n",
            " 'salesman' 'doctor']\n",
            "\n",
            "f) Most frequent occupation: student\n",
            "\n",
            "g) Summary of dataset:\n",
            "           user_id         age gender occupation zip_code\n",
            "count   943.000000  943.000000    943        943      943\n",
            "unique         NaN         NaN      2         21      795\n",
            "top            NaN         NaN      M    student    55414\n",
            "freq           NaN         NaN    670        196        9\n",
            "mean    472.000000   34.051962    NaN        NaN      NaN\n",
            "std     272.364951   12.192740    NaN        NaN      NaN\n",
            "min       1.000000    7.000000    NaN        NaN      NaN\n",
            "25%     236.500000   25.000000    NaN        NaN      NaN\n",
            "50%     472.000000   31.000000    NaN        NaN      NaN\n",
            "75%     707.500000   43.000000    NaN        NaN      NaN\n",
            "max     943.000000   73.000000    NaN        NaN      NaN\n",
            "\n",
            "h )Mean age per occupation:\n",
            "occupation\n",
            "administrator    38.746835\n",
            "artist           31.392857\n",
            "doctor           43.571429\n",
            "educator         42.010526\n",
            "engineer         36.388060\n",
            "entertainment    29.222222\n",
            "executive        38.718750\n",
            "healthcare       41.562500\n",
            "homemaker        32.571429\n",
            "lawyer           36.750000\n",
            "librarian        40.000000\n",
            "marketing        37.615385\n",
            "none             26.555556\n",
            "other            34.523810\n",
            "programmer       33.121212\n",
            "retired          63.071429\n",
            "salesman         35.666667\n",
            "scientist        35.548387\n",
            "student          22.081633\n",
            "technician       33.148148\n",
            "writer           36.311111\n",
            "Name: age, dtype: float64\n",
            "\n",
            "i) Male ratio per occupation (sorted):\n",
            "occupation\n",
            "doctor           1.000000\n",
            "engineer         0.970149\n",
            "technician       0.962963\n",
            "retired          0.928571\n",
            "programmer       0.909091\n",
            "executive        0.906250\n",
            "scientist        0.903226\n",
            "entertainment    0.888889\n",
            "lawyer           0.833333\n",
            "salesman         0.750000\n",
            "educator         0.726316\n",
            "student          0.693878\n",
            "other            0.657143\n",
            "marketing        0.615385\n",
            "writer           0.577778\n",
            "none             0.555556\n",
            "administrator    0.544304\n",
            "artist           0.535714\n",
            "librarian        0.431373\n",
            "healthcare       0.312500\n",
            "homemaker        0.142857\n",
            "Name: gender, dtype: float64\n",
            "\n",
            "j) Min and Max age per occupation:\n",
            "               min  max\n",
            "occupation             \n",
            "administrator   21   70\n",
            "artist          19   48\n",
            "doctor          28   64\n",
            "educator        23   63\n",
            "engineer        22   70\n",
            "entertainment   15   50\n",
            "executive       22   69\n",
            "healthcare      22   62\n",
            "homemaker       20   50\n",
            "lawyer          21   53\n",
            "librarian       23   69\n",
            "marketing       24   55\n",
            "none            11   55\n",
            "other           13   64\n",
            "programmer      20   63\n",
            "retired         51   73\n",
            "salesman        18   66\n",
            "scientist       23   55\n",
            "student          7   42\n",
            "technician      21   55\n",
            "writer          18   60\n",
            "\n",
            "k) Mean age per occupation and gender:\n",
            "occupation     gender\n",
            "administrator  0         40.638889\n",
            "               1         37.162791\n",
            "artist         0         30.307692\n",
            "               1         32.333333\n",
            "doctor         1         43.571429\n",
            "educator       0         39.115385\n",
            "               1         43.101449\n",
            "engineer       0         29.500000\n",
            "               1         36.600000\n",
            "entertainment  0         31.000000\n",
            "               1         29.000000\n",
            "executive      0         44.000000\n",
            "               1         38.172414\n",
            "healthcare     0         39.818182\n",
            "               1         45.400000\n",
            "homemaker      0         34.166667\n",
            "               1         23.000000\n",
            "lawyer         0         39.500000\n",
            "               1         36.200000\n",
            "librarian      0         40.000000\n",
            "               1         40.000000\n",
            "marketing      0         37.200000\n",
            "               1         37.875000\n",
            "none           0         36.500000\n",
            "               1         18.600000\n",
            "other          0         35.472222\n",
            "               1         34.028986\n",
            "programmer     0         32.166667\n",
            "               1         33.216667\n",
            "retired        0         70.000000\n",
            "               1         62.538462\n",
            "salesman       0         27.000000\n",
            "               1         38.555556\n",
            "scientist      0         28.333333\n",
            "               1         36.321429\n",
            "student        0         20.750000\n",
            "               1         22.669118\n",
            "technician     0         38.000000\n",
            "               1         32.961538\n",
            "writer         0         37.631579\n",
            "               1         35.346154\n",
            "Name: age, dtype: float64\n",
            "\n",
            "l) Percentage of men and women per occupation:\n",
            "gender                 0           1\n",
            "occupation                          \n",
            "administrator  45.569620   54.430380\n",
            "artist         46.428571   53.571429\n",
            "doctor               NaN  100.000000\n",
            "educator       27.368421   72.631579\n",
            "engineer        2.985075   97.014925\n",
            "entertainment  11.111111   88.888889\n",
            "executive       9.375000   90.625000\n",
            "healthcare     68.750000   31.250000\n",
            "homemaker      85.714286   14.285714\n",
            "lawyer         16.666667   83.333333\n",
            "librarian      56.862745   43.137255\n",
            "marketing      38.461538   61.538462\n",
            "none           44.444444   55.555556\n",
            "other          34.285714   65.714286\n",
            "programmer      9.090909   90.909091\n",
            "retired         7.142857   92.857143\n",
            "salesman       25.000000   75.000000\n",
            "scientist       9.677419   90.322581\n",
            "student        30.612245   69.387755\n",
            "technician      3.703704   96.296296\n",
            "writer         42.222222   57.777778\n"
          ]
        }
      ]
    },
    {
      "cell_type": "code",
      "source": [
        "#Task3.2\n",
        "#Read file\n",
        "cars_df = pd.read_csv('cars.csv')\n",
        "\n",
        "# a)\n",
        "most_expensive_car = cars_df.loc[cars_df['price'].idxmax(), 'company']\n",
        "\n",
        "# b)\n",
        "toyota_cars = cars_df[cars_df['company'].str.lower() == 'toyota']\n",
        "\n",
        "# c)\n",
        "cars_per_company = cars_df['company'].value_counts()\n",
        "\n",
        "# d)\n",
        "highest_price_per_company = cars_df.loc[cars_df.groupby('company')['price'].idxmax(), ['company', 'price']]\n",
        "\n",
        "# e)\n",
        "average_mileage_per_company = cars_df.groupby('company')['average-mileage'].mean()\n",
        "\n",
        "# f)\n",
        "sorted_cars = cars_df.sort_values(by='price', ascending=True)\n",
        "\n",
        "#Test\n",
        "print(\"a) Hãng xe có chiếc xe đắt nhất:\", most_expensive_car)\n",
        "print(\"\\nb) Thông tin các xe Toyota:\\n\", toyota_cars)\n",
        "print(\"\\nc) Tổng số xe của từng hãng:\\n\", cars_per_company)\n",
        "print(\"\\nd) Chiếc xe có giá cao nhất của từng hãng:\\n\", highest_price_per_company)\n",
        "print(\"\\ne) Trung bình số dặm mỗi gallon của từng hãng:\\n\", average_mileage_per_company)\n",
        "print(\"\\nf) Danh sách xe sắp xếp theo giá:\\n\", sorted_cars)\n"
      ],
      "metadata": {
        "colab": {
          "base_uri": "https://localhost:8080/",
          "height": 0
        },
        "id": "9HBXvHX6pOmD",
        "outputId": "b1581f2b-c78d-4fc8-f401-256473545ad0"
      },
      "execution_count": 59,
      "outputs": [
        {
          "output_type": "stream",
          "name": "stdout",
          "text": [
            "a) Hãng xe có chiếc xe đắt nhất: mercedes-benz\n",
            "\n",
            "b) Thông tin các xe Toyota:\n",
            "     index company body-style  wheel-base  length engine-type num-of-cylinders  \\\n",
            "48     66  toyota  hatchback        95.7   158.7         ohc             four   \n",
            "49     67  toyota  hatchback        95.7   158.7         ohc             four   \n",
            "50     68  toyota  hatchback        95.7   158.7         ohc             four   \n",
            "51     69  toyota      wagon        95.7   169.7         ohc             four   \n",
            "52     70  toyota      wagon        95.7   169.7         ohc             four   \n",
            "53     71  toyota      wagon        95.7   169.7         ohc             four   \n",
            "54     79  toyota      wagon       104.5   187.8        dohc              six   \n",
            "\n",
            "    horsepower  average-mileage    price  \n",
            "48          62               35   5348.0  \n",
            "49          62               31   6338.0  \n",
            "50          62               31   6488.0  \n",
            "51          62               31   6918.0  \n",
            "52          62               27   7898.0  \n",
            "53          62               27   8778.0  \n",
            "54         156               19  15750.0  \n",
            "\n",
            "c) Tổng số xe của từng hãng:\n",
            " company\n",
            "toyota           7\n",
            "bmw              6\n",
            "mazda            5\n",
            "nissan           5\n",
            "audi             4\n",
            "mercedes-benz    4\n",
            "mitsubishi       4\n",
            "volkswagen       4\n",
            "alfa-romero      3\n",
            "chevrolet        3\n",
            "honda            3\n",
            "isuzu            3\n",
            "jaguar           3\n",
            "porsche          3\n",
            "dodge            2\n",
            "volvo            2\n",
            "Name: count, dtype: int64\n",
            "\n",
            "d) Chiếc xe có giá cao nhất của từng hãng:\n",
            "           company    price\n",
            "1     alfa-romero  16500.0\n",
            "6            audi  18920.0\n",
            "11            bmw  41315.0\n",
            "15      chevrolet   6575.0\n",
            "16          dodge   6377.0\n",
            "19          honda  12945.0\n",
            "21          isuzu   6785.0\n",
            "26         jaguar  36000.0\n",
            "31          mazda  18344.0\n",
            "35  mercedes-benz  45400.0\n",
            "39     mitsubishi   8189.0\n",
            "44         nissan  13499.0\n",
            "46        porsche  37028.0\n",
            "54         toyota  15750.0\n",
            "58     volkswagen   9995.0\n",
            "60          volvo  13415.0\n",
            "\n",
            "e) Trung bình số dặm mỗi gallon của từng hãng:\n",
            " company\n",
            "alfa-romero      20.333333\n",
            "audi             20.000000\n",
            "bmw              19.000000\n",
            "chevrolet        41.000000\n",
            "dodge            31.000000\n",
            "honda            26.333333\n",
            "isuzu            33.333333\n",
            "jaguar           14.333333\n",
            "mazda            28.000000\n",
            "mercedes-benz    18.000000\n",
            "mitsubishi       29.500000\n",
            "nissan           31.400000\n",
            "porsche          17.000000\n",
            "toyota           28.714286\n",
            "volkswagen       31.750000\n",
            "volvo            23.000000\n",
            "Name: average-mileage, dtype: float64\n",
            "\n",
            "f) Danh sách xe sắp xếp theo giá:\n",
            "     index        company body-style  wheel-base  length engine-type  \\\n",
            "13     16      chevrolet  hatchback        88.4   141.1           l   \n",
            "27     36          mazda  hatchback        93.1   159.1         ohc   \n",
            "48     66         toyota  hatchback        95.7   158.7         ohc   \n",
            "36     49     mitsubishi  hatchback        93.7   157.3         ohc   \n",
            "28     37          mazda  hatchback        93.1   159.1         ohc   \n",
            "..    ...            ...        ...         ...     ...         ...   \n",
            "11     14            bmw      sedan       103.5   193.8         ohc   \n",
            "35     47  mercedes-benz    hardtop       112.0   199.2        ohcv   \n",
            "22     31          isuzu      sedan        94.5   155.9         ohc   \n",
            "23     32          isuzu      sedan        94.5   155.9         ohc   \n",
            "47     63        porsche  hatchback        98.4   175.7       dohcv   \n",
            "\n",
            "   num-of-cylinders  horsepower  average-mileage    price  \n",
            "13            three          48               47   5151.0  \n",
            "27             four          68               30   5195.0  \n",
            "48             four          62               35   5348.0  \n",
            "36             four          68               37   5389.0  \n",
            "28             four          68               31   6095.0  \n",
            "..              ...         ...              ...      ...  \n",
            "11              six         182               16  41315.0  \n",
            "35            eight         184               14  45400.0  \n",
            "22             four          70               38      NaN  \n",
            "23             four          70               38      NaN  \n",
            "47            eight         288               17      NaN  \n",
            "\n",
            "[61 rows x 10 columns]\n"
          ]
        }
      ]
    }
  ]
}