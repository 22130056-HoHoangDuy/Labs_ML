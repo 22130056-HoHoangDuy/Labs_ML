{
  "cells": [
    {
      "cell_type": "markdown",
      "metadata": {
        "id": "view-in-github",
        "colab_type": "text"
      },
      "source": [
        "<a href=\"https://colab.research.google.com/github/22130056-HoHoangDuy/Labs_ML/blob/main/22130056_HoHoangDuy_Lab5.ipynb\" target=\"_parent\"><img src=\"https://colab.research.google.com/assets/colab-badge.svg\" alt=\"Open In Colab\"/></a>"
      ]
    },
    {
      "cell_type": "code",
      "execution_count": 69,
      "metadata": {
        "id": "zY-h5jMueaHi"
      },
      "outputs": [],
      "source": [
        "#Import Libraries\n",
        "from sklearn import datasets\n",
        "from sklearn import svm\n",
        "from sklearn.linear_model import LogisticRegression\n",
        "from sklearn import metrics as m\n",
        "from sklearn.neighbors import KNeighborsClassifier\n",
        "from sklearn.feature_selection import SelectFromModel\n",
        "from sklearn.ensemble import RandomForestClassifier\n",
        "from sklearn.model_selection import train_test_split\n",
        "from prettytable import PrettyTable\n",
        "import pandas as pd\n",
        "import matplotlib.pyplot as plt\n",
        "import numpy as np\n",
        "import pickle\n",
        "import joblib\n",
        "from sklearn.feature_selection import SelectKBest, f_classif\n",
        "from sklearn.metrics import accuracy_score, precision_score, recall_score, f1_score\n",
        "from sklearn.svm import SVC\n",
        "from sklearn.tree import DecisionTreeClassifier\n",
        "from sklearn.datasets import load_breast_cancer\n",
        "from sklearn.model_selection import StratifiedKFold, cross_val_score\n",
        "from sklearn.preprocessing import StandardScaler, OneHotEncoder, OrdinalEncoder\n",
        "from sklearn.compose import ColumnTransformer\n",
        "from sklearn.pipeline import Pipeline\n",
        "from sklearn.model_selection import StratifiedKFold, cross_val_predict\n",
        "from sklearn.svm import SVC\n",
        "from sklearn.metrics import classification_report"
      ]
    },
    {
      "cell_type": "code",
      "execution_count": 70,
      "metadata": {
        "colab": {
          "base_uri": "https://localhost:8080/"
        },
        "id": "2NMF2B_3iwZq",
        "outputId": "4cbb7853-f0c2-4963-949e-ff5941647a4d"
      },
      "outputs": [
        {
          "output_type": "stream",
          "name": "stdout",
          "text": [
            "Drive already mounted at /content/gdrive; to attempt to forcibly remount, call drive.mount(\"/content/gdrive\", force_remount=True).\n",
            "/content/gdrive/MyDrive/ML_Labs_Datasets\n"
          ]
        }
      ],
      "source": [
        "#Connect to Drive\n",
        "from google.colab import drive\n",
        "drive.mount('/content/gdrive')\n",
        "%cd '/content/gdrive/MyDrive/ML_Labs_Datasets'"
      ]
    },
    {
      "cell_type": "code",
      "execution_count": 71,
      "metadata": {
        "id": "DudNVmEljUUS"
      },
      "outputs": [],
      "source": [
        "#Task1\n",
        "cancer = datasets.load_breast_cancer()"
      ]
    },
    {
      "cell_type": "code",
      "execution_count": 72,
      "metadata": {
        "id": "LuExJVXUmBgK"
      },
      "outputs": [],
      "source": [
        "#Task1.1\n",
        "def prepare_data(X, y, test_size=0.3, scale=True, random_state=42):\n",
        "    X_train, X_test, y_train, y_test = train_test_split(X, y, test_size=test_size, random_state=random_state, stratify=y)\n",
        "    if scale:\n",
        "        scaler = StandardScaler()\n",
        "        X_train = scaler.fit_transform(X_train)\n",
        "        X_test = scaler.transform(X_test)\n",
        "    return X_train, X_test, y_train, y_test"
      ]
    },
    {
      "cell_type": "code",
      "execution_count": 73,
      "metadata": {
        "id": "qA88dpJkmtUy"
      },
      "outputs": [],
      "source": [
        "#Task1.2\n",
        "def train_model(model, X_train, y_train):\n",
        "    model.fit(X_train, y_train)\n",
        "    return model\n",
        "def evaluate_model(model, X_test, y_test):\n",
        "    y_pred = model.predict(X_test)\n",
        "\n",
        "    metrics = {\n",
        "        'accuracy': accuracy_score(y_test, y_pred),\n",
        "        'precision': precision_score(y_test, y_pred),\n",
        "        'recall': recall_score(y_test, y_pred),\n",
        "        'f1_score': f1_score(y_test, y_pred)\n",
        "    }\n",
        "\n",
        "    return metrics"
      ]
    },
    {
      "cell_type": "code",
      "execution_count": 74,
      "metadata": {
        "id": "ZsJ24Deem38i"
      },
      "outputs": [],
      "source": [
        "#Task1.3\n",
        "def select_features(X_train, y_train, X_test, k=10):\n",
        "    selector = SelectKBest(score_func=f_classif, k=k)\n",
        "    X_train_selected = selector.fit_transform(X_train, y_train)\n",
        "    X_test_selected = selector.transform(X_test)\n",
        "    return X_train_selected, X_test_selected, selector.get_support()"
      ]
    },
    {
      "cell_type": "code",
      "execution_count": 75,
      "metadata": {
        "id": "3ff0DghRoHLi"
      },
      "outputs": [],
      "source": [
        "#Run\n",
        "def run_models(X, y, use_feature_selection=False, k_features=10):\n",
        "    X_train, X_test, y_train, y_test = prepare_data(X, y)\n",
        "\n",
        "    if use_feature_selection:\n",
        "        X_train, X_test, selected = select_features(X_train, y_train, X_test, k=k_features)\n",
        "\n",
        "    models = {\n",
        "        'Logistic Regression': LogisticRegression(max_iter=1000),\n",
        "        'Decision Tree': DecisionTreeClassifier(),\n",
        "        'kNN': KNeighborsClassifier(),\n",
        "        'SVM (Linear)': SVC(kernel='linear')\n",
        "    }\n",
        "\n",
        "    results = {}\n",
        "    for name, model in models.items():\n",
        "        trained = train_model(model, X_train, y_train)\n",
        "def run_models(X, y, use_feature_selection=False, k_features=10):\n",
        "    X_train, X_test, y_train, y_test = prepare_data(X, y)\n",
        "\n",
        "    if use_feature_selection:\n",
        "        X_train, X_test, selected = select_features(X_train, y_train, X_test, k=k_features)\n",
        "\n",
        "    models = {\n",
        "        'Logistic Regression': LogisticRegression(max_iter=1000),\n",
        "        'Decision Tree': DecisionTreeClassifier(),\n",
        "        'kNN': KNeighborsClassifier(),\n",
        "        'SVM (Linear)': SVC(kernel='linear')\n",
        "    }\n",
        "\n",
        "    results = {}\n",
        "    for name, model in models.items():\n",
        "        trained = train_model(model, X_train, y_train)\n",
        "        metrics = evaluate_model(trained, X_test, y_test)\n",
        "        results[name] = metrics\n",
        "    return pd.DataFrame(results).T"
      ]
    },
    {
      "cell_type": "code",
      "execution_count": 76,
      "metadata": {
        "colab": {
          "base_uri": "https://localhost:8080/"
        },
        "id": "8-VWHOBNoOR7",
        "outputId": "e12c993d-6dcf-42d4-b5e6-d8b9dd756006"
      },
      "outputs": [
        {
          "output_type": "stream",
          "name": "stdout",
          "text": [
            "Kết quả không chọn lọc đặc trưng:\n",
            "                     accuracy  precision    recall  f1_score\n",
            "Logistic Regression  0.988304   0.990654  0.990654  0.990654\n",
            "Decision Tree        0.912281   0.933962  0.925234  0.929577\n",
            "kNN                  0.959064   0.938596  1.000000  0.968326\n",
            "SVM (Linear)         0.982456   0.981481  0.990654  0.986047\n",
            "Kết quả SAU khi chọn lọc đặc trưng (10 đặc trưng):\n",
            "                     accuracy  precision    recall  f1_score\n",
            "Logistic Regression  0.935673   0.944444  0.953271  0.948837\n",
            "Decision Tree        0.929825   0.935780  0.953271  0.944444\n",
            "kNN                  0.947368   0.945455  0.971963  0.958525\n",
            "SVM (Linear)         0.953216   0.945946  0.981308  0.963303\n"
          ]
        }
      ],
      "source": [
        "\n",
        "data = load_breast_cancer()\n",
        "X = data.data\n",
        "y = data.target\n",
        "print(\"Kết quả không chọn lọc đặc trưng:\")\n",
        "print(run_models(X, y, use_feature_selection=False))\n",
        "print(\"Kết quả SAU khi chọn lọc đặc trưng (10 đặc trưng):\")\n",
        "print(run_models(X, y, use_feature_selection=True, k_features=10))"
      ]
    },
    {
      "cell_type": "code",
      "execution_count": 77,
      "metadata": {
        "id": "eu0tgeLNrpMs"
      },
      "outputs": [],
      "source": [
        "#Task2\n",
        "mobile_train = pd.read_csv('mobile_train.csv')\n",
        "mobile_test = pd.read_csv('mobile_test.csv')\n",
        "mobile_test.drop(columns=['id'], inplace=True)\n",
        "\n",
        "mobile_X = mobile_train.drop('price_range', axis=1)\n",
        "mobile_y = mobile_train['price_range']\n",
        "features = mobile_X.columns"
      ]
    },
    {
      "cell_type": "code",
      "execution_count": 78,
      "metadata": {
        "colab": {
          "base_uri": "https://localhost:8080/"
        },
        "id": "HO6zVL7FsR8r",
        "outputId": "9b6a0c9d-1c17-4c92-ea9c-f36cdb5ae13f"
      },
      "outputs": [
        {
          "output_type": "stream",
          "name": "stdout",
          "text": [
            "{'linear': 0.9733333333333334, 'poly': 0.9533333333333334, 'rbf': 0.9533333333333334, 'sigmoid': 0.18666666666666668}\n"
          ]
        }
      ],
      "source": [
        "#Task2.1\n",
        "#The problem of data optimization remains unresolved\n",
        "def run_svm_with_kernels(X, y):\n",
        "    X_train, X_test, y_train, y_test = train_test_split(X, y, test_size=0.3, random_state=42)\n",
        "    kernels = ['linear', 'poly', 'rbf', 'sigmoid']\n",
        "    results = {}\n",
        "    for kernel in kernels:\n",
        "        model = SVC(kernel=kernel)\n",
        "        model.fit(X_train, y_train)\n",
        "        y_pred = model.predict(X_test)\n",
        "        accuracy = accuracy_score(y_test, y_pred)\n",
        "        results[kernel] = accuracy\n",
        "    return results\n",
        "print(run_svm_with_kernels(mobile_X, mobile_y))"
      ]
    },
    {
      "cell_type": "code",
      "execution_count": 79,
      "metadata": {
        "colab": {
          "base_uri": "https://localhost:8080/",
          "height": 487
        },
        "id": "SOMdez4nuNhE",
        "outputId": "011e0f82-e187-4ed7-8420-e0cc5dc8a947"
      },
      "outputs": [
        {
          "output_type": "display_data",
          "data": {
            "text/plain": [
              "<Figure size 640x480 with 1 Axes>"
            ],
            "image/png": "[encoded data removed]"
          },
          "metadata": {}
        }
      ],
      "source": [
        "#Compare 2 ways: K-Fold and Fixed Split to slove the problem data optimization\n",
        "import numpy as np\n",
        "import matplotlib.pyplot as plt\n",
        "from sklearn.model_selection import train_test_split, cross_val_score, StratifiedKFold\n",
        "from sklearn.svm import SVC\n",
        "from sklearn.metrics import accuracy_score\n",
        "\n",
        "def fixed_split_svm(X, y):\n",
        "    X_train, X_test, y_train, y_test = train_test_split(X, y, test_size=0.3, random_state=42)\n",
        "    kernels = ['linear', 'poly', 'rbf', 'sigmoid']\n",
        "    results = {}\n",
        "    for kernel in kernels:\n",
        "        model = SVC(kernel=kernel)\n",
        "        model.fit(X_train, y_train)\n",
        "        y_pred = model.predict(X_test)\n",
        "        accuracy = accuracy_score(y_test, y_pred)\n",
        "        results[kernel] = accuracy\n",
        "    return results\n",
        "\n",
        "def cross_val_svm(X, y, k=5):\n",
        "    kernels = ['linear', 'poly', 'rbf', 'sigmoid']\n",
        "    results = {}\n",
        "    cv = StratifiedKFold(n_splits=k, shuffle=True, random_state=42)\n",
        "    for kernel in kernels:\n",
        "        model = SVC(kernel=kernel)\n",
        "        scores = cross_val_score(model, X, y, cv=cv)\n",
        "        results[kernel] = np.mean(scores)\n",
        "    return results\n",
        "\n",
        "def compare_and_plot(X, y):\n",
        "    fixed_results = fixed_split_svm(X, y)\n",
        "    cv_results = cross_val_svm(X, y)\n",
        "\n",
        "    kernels = list(fixed_results.keys())\n",
        "    fixed_scores = [fixed_results[k] for k in kernels]\n",
        "    cv_scores = [cv_results[k] for k in kernels]\n",
        "\n",
        "    x = np.arange(len(kernels))\n",
        "    width = 0.35\n",
        "\n",
        "    fig, ax = plt.subplots()\n",
        "    ax.bar(x - width/2, fixed_scores, width, label='Fixed Split')\n",
        "    ax.bar(x + width/2, cv_scores, width, label='K-Fold CV')\n",
        "\n",
        "    ax.set_ylabel('Accuracy')\n",
        "    ax.set_title('Accuracy by SVM Kernel and Split Strategy')\n",
        "    ax.set_xticks(x)\n",
        "    ax.set_xticklabels(kernels)\n",
        "    ax.legend()\n",
        "    plt.ylim(0, 1)  # Độ chính xác từ 0 đến 1\n",
        "    plt.grid(True, linestyle='--', alpha=0.5)\n",
        "    plt.tight_layout()\n",
        "    plt.show()\n",
        "\n",
        "# Gọi hàm so sánh\n",
        "compare_and_plot(mobile_X, mobile_y)\n"
      ]
    },
    {
      "cell_type": "code",
      "execution_count": 80,
      "metadata": {
        "colab": {
          "base_uri": "https://localhost:8080/"
        },
        "id": "Gya5iCrXwsOc",
        "outputId": "1e9a3bed-cfb2-47a4-f0ce-5e6c5ec27eae"
      },
      "outputs": [
        {
          "output_type": "stream",
          "name": "stdout",
          "text": [
            "K-Fold Cross Validation Results:\n",
            "linear: 0.9710\n",
            "poly: 0.9530\n",
            "rbf: 0.9515\n",
            "sigmoid: 0.1850\n"
          ]
        }
      ],
      "source": [
        "#Task2.1\n",
        "#The data optimization problem is solved using the K-Fold method\n",
        "def run_svm_with_kernels_kfold(X, y, k=5):\n",
        "    kernels = ['linear', 'poly', 'rbf', 'sigmoid']\n",
        "    results = {}\n",
        "    cv = StratifiedKFold(n_splits=k, shuffle=True, random_state=42)\n",
        "\n",
        "    for kernel in kernels:\n",
        "        model = SVC(kernel=kernel)\n",
        "        scores = cross_val_score(model, X, y, cv=cv)\n",
        "        results[kernel] = np.mean(scores)\n",
        "\n",
        "    return results\n",
        "\n",
        "results = run_svm_with_kernels_kfold(mobile_X, mobile_y, k=5)\n",
        "print(\"K-Fold Cross Validation Results:\")\n",
        "for kernel, accuracy in results.items():\n",
        "    print(f\"{kernel}: {accuracy:.4f}\")\n",
        "\n",
        "def evaluate_svm_with_metrics(X, y, k=5):\n",
        "    kernels = ['linear', 'poly', 'rbf', 'sigmoid']\n",
        "    cv = StratifiedKFold(n_splits=k, shuffle=True, random_state=42)\n",
        "\n",
        "    for kernel in kernels:\n",
        "        print(f\"\\nKernel: {kernel}\")\n",
        "        model = SVC(kernel=kernel)\n",
        "        y_pred = cross_val_predict(model, X, y, cv=cv)\n",
        "        print(classification_report(y, y_pred))"
      ]
    },
    {
      "cell_type": "code",
      "execution_count": 81,
      "metadata": {
        "colab": {
          "base_uri": "https://localhost:8080/"
        },
        "id": "Uv027y54z_f8",
        "outputId": "56465df5-ad96-4a92-cf3e-38b84984aa28"
      },
      "outputs": [
        {
          "output_type": "stream",
          "name": "stdout",
          "text": [
            "Feature Importance: [0.07460184 0.0063116  0.02606854 0.00644839 0.02427436 0.00623685\n",
            " 0.03469866 0.02329284 0.03895964 0.02203571 0.02745886 0.05563956\n",
            " 0.05744761 0.49416339 0.02654661 0.02789211 0.03034681 0.00470159\n",
            " 0.00662019 0.00625484]\n",
            "Selected Features: Index(['battery_power', 'px_height', 'px_width', 'ram'], dtype='object')\n",
            "\n",
            "Logistic Regression\n",
            "Accuracy : 0.9675\n",
            "Precision: 0.9673686603354212\n",
            "Recall   : 0.9675\n",
            "F1 Score : 0.9673982360922659\n",
            "\n",
            "Decision Tree\n",
            "Accuracy : 0.8925\n",
            "Precision: 0.892887558616383\n",
            "Recall   : 0.8925\n",
            "F1 Score : 0.8926150871015581\n",
            "\n",
            "KNN\n",
            "Accuracy : 0.9325\n",
            "Precision: 0.9321863002626792\n",
            "Recall   : 0.9325\n",
            "F1 Score : 0.9323089099954771\n"
          ]
        }
      ],
      "source": [
        "# Task 2.2\n",
        "rf = RandomForestClassifier(n_estimators=100, random_state=42)\n",
        "rf.fit(mobile_X, mobile_y)\n",
        "print('Feature Importance:', rf.feature_importances_)\n",
        "selector = SelectFromModel(rf, threshold=\"mean\")\n",
        "selector.fit(mobile_X, mobile_y)\n",
        "\n",
        "X_new = selector.transform(mobile_X)\n",
        "features_selected = mobile_X.columns[selector.get_support()]\n",
        "print('Selected Features:', features_selected)\n",
        "\n",
        "def evaluate_models(X, y):\n",
        "    models = {\n",
        "        'Logistic Regression': LogisticRegression(max_iter=1000),\n",
        "        'Decision Tree': DecisionTreeClassifier(),\n",
        "        'KNN': KNeighborsClassifier()\n",
        "    }\n",
        "    X_train, X_test, y_train, y_test = train_test_split(X, y, test_size=0.2, random_state=42, stratify=y)\n",
        "\n",
        "    for name, model in models.items():\n",
        "        model.fit(X_train, y_train)\n",
        "        y_pred = model.predict(X_test)\n",
        "        print(f\"\\n{name}\")\n",
        "        print(\"Accuracy :\", accuracy_score(y_test, y_pred))\n",
        "        print(\"Precision:\", precision_score(y_test, y_pred, average='macro'))\n",
        "        print(\"Recall   :\", recall_score(y_test, y_pred, average='macro'))\n",
        "        print(\"F1 Score :\", f1_score(y_test, y_pred, average='macro'))\n",
        "\n",
        "evaluate_models(X_new, mobile_y)"
      ]
    },
    {
      "cell_type": "code",
      "execution_count": 82,
      "metadata": {
        "id": "040vvQ011CFU"
      },
      "outputs": [],
      "source": [
        "#Task3\n",
        "credit_data = pd.read_csv('credit.csv')"
      ]
    },
    {
      "cell_type": "code",
      "execution_count": 83,
      "metadata": {
        "id": "sR_5DVrw4Kec"
      },
      "outputs": [],
      "source": [
        "#Task3.1\n",
        "df = credit_data\n",
        "numerical_cols = ['duration', 'credit_amount', 'installment_commitment',\n",
        "                  'residence_since', 'age', 'existing_credits', 'num_dependents']\n",
        "\n",
        "categorical_cols = ['credit_history', 'purpose', 'personal_status', 'other_parties',\n",
        "                    'property_magnitude', 'other_payment_plans', 'housing',\n",
        "                    'job', 'own_telephone', 'foreign_worker']\n",
        "\n",
        "ordinal_cols = ['checking_status', 'savings_status', 'employment']\n",
        "\n",
        "target_col = 'class'\n",
        "\n",
        "X = df.drop(columns=[target_col])\n",
        "y = df[target_col]\n",
        "\n",
        "preprocessor = ColumnTransformer(\n",
        "    transformers=[\n",
        "        ('num', StandardScaler(), numerical_cols),\n",
        "        ('cat', OneHotEncoder(handle_unknown='ignore'), categorical_cols),\n",
        "        ('ord', OrdinalEncoder(), ordinal_cols)\n",
        "    ]\n",
        ")\n",
        "\n",
        "X_processed = preprocessor.fit_transform(X)\n",
        "X_train, X_test, y_train, y_test = train_test_split(X_processed, y, test_size=0.3, random_state=42)"
      ]
    },
    {
      "cell_type": "code",
      "execution_count": 84,
      "metadata": {
        "colab": {
          "base_uri": "https://localhost:8080/"
        },
        "id": "5HUPqoS_5X79",
        "outputId": "ddaba072-f70b-4656-9875-e28534718ee6"
      },
      "outputs": [
        {
          "output_type": "stream",
          "name": "stdout",
          "text": [
            "\n",
            " Kết quả so sánh mô hình \n",
            "\n",
            "SVM (RBF kernel)\n",
            "  - Accuracy: 0.7533\n",
            "  - Precision: 0.7586\n",
            "  - Recall: 0.9474\n",
            "  - F1 Score: 0.8426\n",
            "\n",
            "Logistic Regression\n",
            "  - Accuracy: 0.7367\n",
            "  - Precision: 0.7664\n",
            "  - Recall: 0.8947\n",
            "  - F1 Score: 0.8256\n",
            "\n",
            "Decision Tree\n",
            "  - Accuracy: 0.6867\n",
            "  - Precision: 0.7626\n",
            "  - Recall: 0.7990\n",
            "  - F1 Score: 0.7804\n",
            "\n",
            "kNN\n",
            "  - Accuracy: 0.7233\n",
            "  - Precision: 0.7739\n",
            "  - Recall: 0.8517\n",
            "  - F1 Score: 0.8109\n",
            "\n"
          ]
        }
      ],
      "source": [
        "#Task3.2\n",
        "def evaluate_model(model, X_train, y_train, X_test, y_test):\n",
        "    model.fit(X_train, y_train)\n",
        "    y_pred = model.predict(X_test)\n",
        "\n",
        "    return {\n",
        "        'Accuracy': accuracy_score(y_test, y_pred),\n",
        "        'Precision': precision_score(y_test, y_pred, pos_label='good'),\n",
        "        'Recall': recall_score(y_test, y_pred, pos_label='good'),\n",
        "        'F1 Score': f1_score(y_test, y_pred, pos_label='good')\n",
        "    }\n",
        "models = {\n",
        "    'SVM (RBF kernel)': SVC(kernel='rbf'),\n",
        "    'Logistic Regression': LogisticRegression(max_iter=1000),\n",
        "    'Decision Tree': DecisionTreeClassifier(),\n",
        "    'kNN': KNeighborsClassifier()\n",
        "}\n",
        "\n",
        "results = {}\n",
        "\n",
        "for name, model in models.items():\n",
        "    scores = evaluate_model(model, X_train, y_train, X_test, y_test)\n",
        "    results[name] = scores\n",
        "\n",
        "print(\"\\n Kết quả so sánh mô hình \\n\")\n",
        "for model_name, metrics in results.items():\n",
        "    print(f\"{model_name}\")\n",
        "    for metric_name, score in metrics.items():\n",
        "        print(f\"  - {metric_name}: {score:.4f}\")\n",
        "    print()"
      ]
    },
    {
      "cell_type": "code",
      "execution_count": 85,
      "metadata": {
        "colab": {
          "base_uri": "https://localhost:8080/"
        },
        "id": "-wt2Ikrp53TT",
        "outputId": "393b565f-656d-4e02-da2b-55dfb1faf51c"
      },
      "outputs": [
        {
          "output_type": "stream",
          "name": "stdout",
          "text": [
            "Kết quả sau khi chọn đặc trưng :\n",
            "\n",
            "Logistic Regression\n",
            "  - Accuracy: 0.7200\n",
            "  - Precision: 0.7451\n",
            "  - Recall: 0.9091\n",
            "  - F1 Score: 0.8190\n",
            "\n",
            "Decision Tree\n",
            "  - Accuracy: 0.6533\n",
            "  - Precision: 0.7354\n",
            "  - Recall: 0.7847\n",
            "  - F1 Score: 0.7593\n",
            "\n",
            "kNN\n",
            "  - Accuracy: 0.7500\n",
            "  - Precision: 0.7746\n",
            "  - Recall: 0.9043\n",
            "  - F1 Score: 0.8344\n",
            "\n"
          ]
        }
      ],
      "source": [
        "#Task3.3\n",
        "def select_best_features(X_train, y_train, X_test, k=20):\n",
        "    selector = SelectKBest(score_func=f_classif, k=k)\n",
        "    X_train_new = selector.fit_transform(X_train, y_train)\n",
        "    X_test_new = selector.transform(X_test)\n",
        "    return X_train_new, X_test_new, selector\n",
        "X_train_fs, X_test_fs, selector = select_best_features(X_train, y_train, X_test, k=20)\n",
        "models_fs = {\n",
        "    'Logistic Regression': LogisticRegression(max_iter=1000),\n",
        "    'Decision Tree': DecisionTreeClassifier(),\n",
        "    'kNN': KNeighborsClassifier()\n",
        "}\n",
        "\n",
        "results_fs = {}\n",
        "\n",
        "for name, model in models_fs.items():\n",
        "    scores = evaluate_model(model, X_train_fs, y_train, X_test_fs, y_test)\n",
        "    results_fs[name] = scores\n",
        "\n",
        "print(\"Kết quả sau khi chọn đặc trưng :\\n\")\n",
        "for model_name, metrics in results_fs.items():\n",
        "    print(f\"{model_name}\")\n",
        "    for metric_name, score in metrics.items():\n",
        "        print(f\"  - {metric_name}: {score:.4f}\")\n",
        "    print()"
      ]
    }
  ],
  "metadata": {
    "colab": {
      "provenance": [],
      "authorship_tag": "ABX9TyNcbjwbYHAf0YYsjpVQ+tra",
      "include_colab_link": true
    },
    "kernelspec": {
      "display_name": "Python 3",
      "name": "python3"
    },
    "language_info": {
      "name": "python"
    }
  },
  "nbformat": 4,
  "nbformat_minor": 0
}